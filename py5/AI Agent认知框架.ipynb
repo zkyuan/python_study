{
 "cells": [
  {
   "cell_type": "markdown",
   "id": "4b62949f-d70d-4335-adcd-71a021974a26",
   "metadata": {},
   "source": [
    "# Agent框架与策略分析"
   ]
  },
  {
   "cell_type": "markdown",
   "id": "605ccf70-5da3-40f7-8164-98bc984712a1",
   "metadata": {},
   "source": [
    "## 其他Agent认知框架"
   ]
  },
  {
   "cell_type": "markdown",
   "id": "40037797-2ebc-4b95-9e45-7b5d7b9dd0f4",
   "metadata": {},
   "source": [
    "### Plan-and-Execute"
   ]
  },
  {
   "cell_type": "markdown",
   "id": "c847191e-e680-4823-9f5b-4820c2eee098",
   "metadata": {},
   "source": [
    "计划与执行（Plan-and-Execute）框架侧重于先规划一系列的行动，然后执行。这个框架可以使大模型能够先综合考虑任务的多个方面，然后按照计划进行行动。应用在比较复杂的项目管理中或者需要多步决策的场景下会比较合适。"
   ]
  },
  {
   "cell_type": "markdown",
   "id": "cb5106ba-de98-4ec0-8b71-ce6981deabc4",
   "metadata": {},
   "source": [
    "<img src=\"./img/plan-and-execute.png\">"
   ]
  },
  {
   "cell_type": "code",
   "execution_count": 2,
   "id": "2ba1897f-dad4-4b95-ab81-f0d710affbcd",
   "metadata": {},
   "outputs": [
    {
     "name": "stderr",
     "output_type": "stream",
     "text": [
      "/Users/yuejunzhang/anaconda3/envs/AI_LLM/lib/python3.11/site-packages/langchain/chains/llm_math/base.py:57: UserWarning: Directly instantiating an LLMMathChain with an llm is deprecated. Please instantiate with llm_chain argument or using the from_llm class method.\n",
      "  warnings.warn(\n"
     ]
    },
    {
     "name": "stdout",
     "output_type": "stream",
     "text": [
      "\n",
      "\n",
      "\u001b[1m> Entering new PlanAndExecute chain...\u001b[0m\n",
      "steps=[Step(value='确定玫瑰的价格：查找纽约地区的玫瑰花价格。'), Step(value='确定玫瑰的束数：计算100美元可以购买多少束玫瑰花。'), Step(value=\"给出回答：将计算结果回答给用户。\\nGiven the above steps taken, please respond to the user's original question.\\n\")]\n",
      "\n",
      "\u001b[1m> Entering new AgentExecutor chain...\u001b[0m\n",
      "\u001b[32;1m\u001b[1;3mThought: I need to search for the current objective to find the price of roses in the New York area.\n",
      "Action:\n",
      "```\n",
      "{\n",
      "  \"action\": \"Search\",\n",
      "  \"action_input\": \"Find the price of roses in New York area\"\n",
      "}\n",
      "```\u001b[0m\n",
      "Observation: \u001b[36;1m\u001b[1;3m['We have the best roses that you will find. When you combine our quality and dependability, you get the very best for a great value!', 'Celebrate any occasion with beautiful and fresh roses, hand-delivered in NYC and NJ by PlantShed, your local Manhattan florist.', 'Ravishing Dozen Rose Arrangement in New York, NY | FLOWERS BY RICHARD NYC Ravishing Dozen Rose Arrangement Shown at $100.00 Buy Now', 'Pink Roses Gift Box - Long Stemmed Roses · From $85 · $95 ; Wildflowers · From $89 · $99 ; Sunflowers · From $59 · $69 ; Red Roses Gift Box - Long Stemmed Roses · From ...', 'Same day flower delivery in NYC. We deliver exquisite bouquets and floral gifts to most New York City neighborhoods. Shop now.', \"... Roses $119.99 Buy Now >. Teleflora's Winter ... We can help you find the perfect flowers and deliver them throughout New York and the surrounding area.\", 'A dozen roses in New York City can cost a customer from $10 from a street vendor to more than $120 from a high-end florist.', 'Discover timeless elegance with fresh roses from Starbright Floral Design. Order from our family-owned flower shop today with same-day NYC delivery!', 'We offer an enormous selection of flowers, gift baskets, and live plants for delivery in New York City. Congratulate a friend, say \"Happy Birthday,\" or simply ...', 'UrbanStems makes it easy to send fresh flowers in New York City. Our modern bouquets are available for same-day and next-day flower delivery throughout NYC.']\u001b[0m\n",
      "Thought:\u001b[32;1m\u001b[1;3m\u001b[0m\n",
      "\n",
      "\u001b[1m> Finished chain.\u001b[0m\n",
      "*****\n",
      "\n",
      "Step: 确定玫瑰的价格：查找纽约地区的玫瑰花价格。\n",
      "\n",
      "Response: \n",
      "\n",
      "\u001b[1m> Entering new AgentExecutor chain...\u001b[0m\n",
      "\u001b[32;1m\u001b[1;3mThought: I can use the calculator tool to determine how many bouquets of roses can be purchased with $100.\n",
      "\n",
      "Action:\n",
      "```\n",
      "{\n",
      "  \"action\": \"Calculator\",\n",
      "  \"action_input\": \"100 / 20\"\n",
      "}\n",
      "```\u001b[0m\n",
      "\n",
      "\u001b[1m> Entering new LLMMathChain chain...\u001b[0m\n",
      "100 / 20\u001b[32;1m\u001b[1;3m```text\n",
      "100 / 20\n",
      "```\n",
      "...numexpr.evaluate(\"100 / 20\")...\n",
      "\u001b[0m\n",
      "Answer: \u001b[33;1m\u001b[1;3m5.0\u001b[0m\n",
      "\u001b[1m> Finished chain.\u001b[0m\n",
      "\n",
      "Observation: \u001b[33;1m\u001b[1;3mAnswer: 5.0\u001b[0m\n",
      "Thought:\u001b[32;1m\u001b[1;3mI have calculated that with $100, you can purchase 5 bouquets of roses. How may I assist you further with this information?\u001b[0m\n",
      "\n",
      "\u001b[1m> Finished chain.\u001b[0m\n",
      "*****\n",
      "\n",
      "Step: 确定玫瑰的束数：计算100美元可以购买多少束玫瑰花。\n",
      "\n",
      "Response: I have calculated that with $100, you can purchase 5 bouquets of roses. How may I assist you further with this information?\n",
      "\n",
      "\u001b[1m> Entering new AgentExecutor chain...\u001b[0m\n",
      "\u001b[32;1m\u001b[1;3mThought: The user is seeking a response based on the calculated information about the price and quantity of roses.\n",
      "\n",
      "Action:\n",
      "```\n",
      "{\n",
      "  \"action\": \"Final Answer\",\n",
      "  \"action_input\": \"With $100, you can purchase 5 bouquets of roses.\"\n",
      "}\n",
      "```\n",
      "\u001b[0m\n",
      "\n",
      "\u001b[1m> Finished chain.\u001b[0m\n",
      "*****\n",
      "\n",
      "Step: 给出回答：将计算结果回答给用户。\n",
      "Given the above steps taken, please respond to the user's original question.\n",
      "\n",
      "\n",
      "Response: With $100, you can purchase 5 bouquets of roses.\n",
      "\u001b[1m> Finished chain.\u001b[0m\n",
      "With $100, you can purchase 5 bouquets of roses.\n"
     ]
    }
   ],
   "source": [
    "from langchain_openai import ChatOpenAI\n",
    "from langchain_experimental.plan_and_execute import PlanAndExecute, load_agent_executor, load_chat_planner\n",
    "from langchain import SerpAPIWrapper\n",
    "from langchain.agents.tools import Tool\n",
    "from langchain import LLMMathChain\n",
    "from dotenv import load_dotenv\n",
    "load_dotenv()\n",
    "# 配置API密钥和基础URL\n",
    "llm = ChatOpenAI()\n",
    "\n",
    "# https://serpapi.com/dashboard\n",
    "# 创建工具\n",
    "search = SerpAPIWrapper() \n",
    "llm_math_chain = LLMMathChain(llm=llm, verbose=True)\n",
    "\n",
    "# 定义工具列表\n",
    "tools = [\n",
    "    Tool(\n",
    "        name=\"Search\",\n",
    "        func=search.run,\n",
    "        description=\"用于回答关于当前事件的问题\"\n",
    "    ),\n",
    "    Tool(\n",
    "        name=\"Calculator\",\n",
    "        func=llm_math_chain.run,\n",
    "        description=\"用于计算或解决问题\"\n",
    "    )\n",
    "]\n",
    "\n",
    "# 加载规划器和执行器\n",
    "planner = load_chat_planner(llm)\n",
    "executor = load_agent_executor(llm, tools, verbose=True)\n",
    "\n",
    "# 创建Plan and Execute代理\n",
    "agent = PlanAndExecute(planner=planner, executor=executor, verbose=True)\n",
    "\n",
    "# 运行代理解决实际问题\n",
    "print(agent.run(\"在纽约，100美元能买几束玫瑰？\"))\n"
   ]
  },
  {
   "cell_type": "markdown",
   "id": "16d5cc2d-c64b-4593-86e0-a74846175614",
   "metadata": {},
   "source": [
    "### Self-Ask"
   ]
  },
  {
   "cell_type": "markdown",
   "id": "4e5a219d-26fd-4ec9-aae9-35e8e359d12d",
   "metadata": {},
   "source": [
    "自问自答（Self-Ask）框架这个允许大模型对自己提出问题并回答，来增强对问题的理解以提高回答质量，这个框架在需要深入分析或者提供创造性解决方案下可以比较适合，例如创意写作。"
   ]
  },
  {
   "cell_type": "markdown",
   "id": "e458bd50-e863-431e-b910-9fcafa99c321",
   "metadata": {},
   "source": [
    "<img src=\"./img/Self-Ask.webp\">"
   ]
  },
  {
   "cell_type": "code",
   "execution_count": null,
   "id": "b95b1491-175a-4c74-9caa-a33a4681742f",
   "metadata": {},
   "outputs": [],
   "source": [
    "\n",
    "import os\n",
    "from langchain import hub\n",
    "from langchain.agents import AgentExecutor, create_self_ask_with_search_agent\n",
    "from langchain_community.tools.tavily_search import TavilyAnswer\n",
    "from dotenv import load_dotenv\n",
    "load_dotenv()\n",
    "# 配置模型\n",
    "from langchain_fireworks import Fireworks\n",
    "\n",
    "llm = Fireworks(\n",
    "    # https://fireworks.ai/account/billing\n",
    "    api_key=os.getenv(\"FIREWORKS_API_KEY\"),\n",
    "    # model=\"accounts/fireworks/models/mixtral-8x7b-instruct\",\n",
    "    model=\"accounts/fireworks/models/llama-v3p1-405b-instruct\",\n",
    "    max_tokens=256)\n",
    "\n",
    "tools = [TavilyAnswer(max_results=1, name=\"Intermediate Answer\",tavily_api_key=os.getenv(\"TAVILY_API_KEY\"))]\n",
    "#获取prompt\n",
    "prompt = hub.pull(\"hwchase17/self-ask-with-search\")\n",
    "print(prompt)\n",
    "agent = create_self_ask_with_search_agent(llm, tools, prompt)\n",
    "\n",
    "agent_executor = AgentExecutor(agent=agent, tools=tools, verbose=True,handle_parsing_errors=True)\n",
    "print(agent_executor.invoke({\"input\": \"上一届的美国总统是谁?\"}))"
   ]
  },
  {
   "cell_type": "markdown",
   "id": "4cd9dbbc-e143-4c42-a525-256f8e0cb53b",
   "metadata": {
    "jp-MarkdownHeadingCollapsed": true
   },
   "source": [
    "### Thinking and Self-Refection"
   ]
  },
  {
   "cell_type": "markdown",
   "id": "bbadb51e-006a-4f76-a7bb-feaeaad70d0c",
   "metadata": {},
   "source": [
    "思考并自我反思（Thinking and Self-Refection）框架主要用于模拟和实现复杂决策过程，通过不断自我评估和调整，使系统能够学习并改进决策过程，从而在面对复杂问题是作出更加有效的决策。\n",
    "\n",
    "**langgraph**  \n",
    "**rankrag**"
   ]
  },
  {
   "cell_type": "markdown",
   "id": "30c960b1-357e-489f-8580-1301ebf107ac",
   "metadata": {},
   "source": [
    "<img src=\"./img/Thinking and Self-Reflection.webp\">"
   ]
  },
  {
   "cell_type": "markdown",
   "id": "95f2185d-2789-4663-b780-8176c3d168f1",
   "metadata": {
    "jp-MarkdownHeadingCollapsed": true
   },
   "source": [
    "## ReAct框架回顾"
   ]
  },
  {
   "cell_type": "markdown",
   "id": "a64cdbaf-a9f7-474c-b38b-545c86c12857",
   "metadata": {},
   "source": [
    "<img src=\"./img/react回顾.webp\">"
   ]
  },
  {
   "cell_type": "markdown",
   "id": "9039a76f-451d-4417-a6ac-c6a9f71794dd",
   "metadata": {},
   "source": [
    "在langchain使用Agent中，我们重点需要理解下面4个元素。\n",
    "+ 1、llm: 提供逻辑的引擎，负责生成预测和处理输入。\n",
    "+ 2、prompt: 负责指导模型，形成推理框架\n",
    "+ 3、tools: 外部工具的使用 包含数据增强、清洗、搜索引擎、api等等。\n",
    "+ 4、Agent Executor: 负责调用合适的外部工具，并管理整个流程。\n"
   ]
  },
  {
   "cell_type": "code",
   "execution_count": 5,
   "id": "8c32753a-707b-4d3f-8034-d6df81f5caa6",
   "metadata": {},
   "outputs": [
    {
     "name": "stdout",
     "output_type": "stream",
     "text": [
      "\n",
      "\n",
      "\u001b[1m> Entering new AgentExecutor chain...\u001b[0m\n",
      "\u001b[32;1m\u001b[1;3m我需要先找到目前市场上玫瑰花的一般进货价格，然后在此基础上加价5%来计算最终的售价。\n",
      "\n",
      "Action: Search\n",
      "Action Input: 目前市场上玫瑰花的一般进货价格\u001b[0m\u001b[36;1m\u001b[1;3m['以玫瑰为例，一扎（20枝）产自云南的普通C级玫瑰花往年价格为20至30元，今年最高价已涨至200至300元不等，价格翻了10倍。寓意长长久久的999朵玫瑰花束售价 ...', '元旦来临，云南鲜切花市场迎来销售高峰期，价格飙升，卡罗拉红玫瑰平时10-20元一把，现在能卖到40-50元。涨价潮可能持续到春节。 “昨天拍一支花可能 ...', '今年由于气温回升较快，玫瑰花已经开始采摘。平阴县玫瑰鲜花蕾开秤价格从2.8元/斤，迅速攀升至4月27日的3.5元/斤，开秤价格平均每斤比去年同期上涨1 ...', \"在记者走访了解中，不少商户直呼“今年七夕节玫瑰花价格是近几年来最低的一次”。“红玫瑰一捆20支的价格一般在25-40元，像'弗洛伊德'这类特定花色的精品玫瑰 ...\", '我公司每天会按照我们网站上公布的鲜花报价发货,如有我们网站上公布的价格与实际的发货价格不符，请与我们网站上的客服联系或者直接致电给我们询问. 鲜花等级说明：. A级 ...', '一位花店负责人表示，因为价格高，买到的花材有限，店里今年只备了两束99朵红玫瑰的花束，售价2066元。“玫瑰几乎是花店界的硬通货了，订花材的时候，实在 ...', '“去年情人节我们单支玫瑰包装后卖15元，今年可能要卖到20元。” 据了解，现在批发市场1扎红玫瑰每天至少涨价10-15元，虽然不少人已经望而却步，但商家均表 ...', '周先生说，由于临近情人节，玫瑰花的销量在逐天上涨，价格也比平时翻了好几倍。“拿红玫瑰举例，平时这个品种一把进价在30元左右，一把20支，现在已经涨到 ...', '店家告诉记者，这是专门为今年兔年打造的情人节花束，共有11支玫瑰，此类包装精致的玫瑰花花束价格都在200元左右，包装费在50-60元左右。常见的用包装纸 ...', '4天前首页>> 520朵红玫瑰价格:低高喜好:低高× 520朵玫瑰,.. 平时价:3899元七夕节价:4864元520朵玫瑰,.. 平时价:4000元七夕节价:4992元520朵 ...']\u001b[0m\u001b[32;1m\u001b[1;3m从搜索结果来看，市场上玫瑰花的进货价格有很大的波动，具体价格受到季节、品种、品质等多种因素的影响。为了简化计算，我们可以取一个较为常见的价格区间作为参考。比如，红玫瑰一捆20支的价格一般在25-40元。如果我们取这个区间的中间值作为参考，即32.5元（(25+40)/2），这样可以得到一个大致的平均进货价格。接下来，我们需要在这个基础上加价5%来计算最终的售价。\n",
      "\n",
      "Action: Calculator\n",
      "Action Input: 32.5 * 1.05\u001b[0m\u001b[33;1m\u001b[1;3mAnswer: 34.125\u001b[0m\u001b[32;1m\u001b[1;3mThought: 我现在知道了如何计算基于进货价格加价5%后的售价。\n",
      "\n",
      "Final Answer: 如果以32.5元作为玫瑰花的平均进货价格，在此基础上加价5%，最终的售价应该是34.13元（四舍五入到小数点后两位）。\u001b[0m\n",
      "\n",
      "\u001b[1m> Finished chain.\u001b[0m\n"
     ]
    },
    {
     "data": {
      "text/plain": [
       "{'input': '目前市场上玫瑰花的一般进货价格是多少？\\n如果我在此基础上加价5%，应该如何定价？',\n",
       " 'output': '如果以32.5元作为玫瑰花的平均进货价格，在此基础上加价5%，最终的售价应该是34.13元（四舍五入到小数点后两位）。'}"
      ]
     },
     "execution_count": 5,
     "metadata": {},
     "output_type": "execute_result"
    }
   ],
   "source": [
    "# 导入环境变量\n",
    "from dotenv import load_dotenv\n",
    "load_dotenv()\n",
    "\n",
    "# 初始化大模型\n",
    "from langchain_openai import ChatOpenAI\n",
    "llm = ChatOpenAI(model='gpt-4-turbo-preview',\n",
    "             temperature=0.5)\n",
    "\n",
    "# 设置工具\n",
    "from langchain_community.agent_toolkits.load_tools import load_tools\n",
    "tools = load_tools([\"serpapi\", \"llm-math\"], llm=llm)\n",
    "\n",
    "# 设置提示模板\n",
    "from langchain.prompts import PromptTemplate\n",
    "template = ('''\n",
    "    '尽你所能用中文回答以下问题。如果能力不够你可以使用以下工具:\\n\\n'\n",
    "    '{tools}\\n\\n\n",
    "    Use the following format:\\n\\n'\n",
    "    'Question: the input question you must answer\\n'\n",
    "    'Thought: you should always think about what to do\\n'\n",
    "    'Action: the action to take, should be one of [{tool_names}]\\n'\n",
    "    'Action Input: the input to the action\\n'\n",
    "    'Observation: the result of the action\\n'\n",
    "    '... (this Thought/Action/Action Input/Observation can repeat N times)\\n'\n",
    "    'Thought: I now know the final answer\\n'\n",
    "    'Final Answer: the final answer to the original input question\\n\\n'\n",
    "    'Begin!\\n\\n'\n",
    "    'Question: {input}\\n'\n",
    "    'Thought:{agent_scratchpad}'\n",
    "    '''\n",
    ")\n",
    "prompt = PromptTemplate.from_template(template)\n",
    "\n",
    "# 初始化Agent\n",
    "from langchain.agents import create_react_agent\n",
    "agent = create_react_agent(llm, tools, prompt)\n",
    "\n",
    "# 构建AgentExecutor\n",
    "from langchain.agents import AgentExecutor\n",
    "agent_executor = AgentExecutor(agent=agent,\n",
    "                               tools=tools,\n",
    "                               handle_parsing_errors=True,\n",
    "                               verbose=True)\n",
    "\n",
    "# 执行AgentExecutor\n",
    "agent_executor.invoke({\"input\": \"\"\"目前市场上玫瑰花的一般进货价格是多少？\\n如果我在此基础上加价5%，应该如何定价？\"\"\"})\n",
    "\n",
    "\n"
   ]
  },
  {
   "cell_type": "markdown",
   "id": "56a8965a-e693-4aee-916e-08ac63ae7aff",
   "metadata": {
    "jp-MarkdownHeadingCollapsed": true
   },
   "source": [
    "## AgentExecutor运行机制"
   ]
  },
  {
   "cell_type": "markdown",
   "id": "b38488f0-2c8a-40ba-a229-f30dcdff3ace",
   "metadata": {},
   "source": [
    "##### 具体上课进行源码分析"
   ]
  },
  {
   "cell_type": "code",
   "execution_count": null,
   "id": "7a27af03-8378-405e-8b26-5d1a7dca808e",
   "metadata": {},
   "outputs": [],
   "source": [
    "base.py agent.py \n",
    "on_chain_start\n",
    "self._call\n",
    "_take_next_step"
   ]
  },
  {
   "cell_type": "markdown",
   "id": "4c99c9e4-c51b-40fb-8d81-9ec65e451462",
   "metadata": {},
   "source": [
    "## 通过llamindex实现ReAct RAG Agent"
   ]
  },
  {
   "cell_type": "code",
   "execution_count": 4,
   "id": "827ae9a1-cc26-4f8c-aaeb-db42faa7e1c3",
   "metadata": {},
   "outputs": [
    {
     "name": "stderr",
     "output_type": "stream",
     "text": [
      "Ignoring wrong pointing object 6 0 (offset 0)\n",
      "Ignoring wrong pointing object 8 0 (offset 0)\n",
      "Ignoring wrong pointing object 10 0 (offset 0)\n",
      "Ignoring wrong pointing object 13 0 (offset 0)\n",
      "Ignoring wrong pointing object 21 0 (offset 0)\n",
      "Ignoring wrong pointing object 23 0 (offset 0)\n",
      "Ignoring wrong pointing object 28 0 (offset 0)\n",
      "Ignoring wrong pointing object 33 0 (offset 0)\n",
      "Ignoring wrong pointing object 41 0 (offset 0)\n",
      "Ignoring wrong pointing object 43 0 (offset 0)\n",
      "Ignoring wrong pointing object 52 0 (offset 0)\n",
      "Ignoring wrong pointing object 54 0 (offset 0)\n",
      "Ignoring wrong pointing object 56 0 (offset 0)\n",
      "Ignoring wrong pointing object 58 0 (offset 0)\n",
      "Ignoring wrong pointing object 60 0 (offset 0)\n",
      "Ignoring wrong pointing object 66 0 (offset 0)\n",
      "Ignoring wrong pointing object 71 0 (offset 0)\n",
      "Ignoring wrong pointing object 73 0 (offset 0)\n",
      "Ignoring wrong pointing object 78 0 (offset 0)\n",
      "Ignoring wrong pointing object 80 0 (offset 0)\n",
      "Ignoring wrong pointing object 85 0 (offset 0)\n",
      "Ignoring wrong pointing object 87 0 (offset 0)\n",
      "Ignoring wrong pointing object 101 0 (offset 0)\n",
      "Ignoring wrong pointing object 110 0 (offset 0)\n",
      "Ignoring wrong pointing object 127 0 (offset 0)\n",
      "Ignoring wrong pointing object 136 0 (offset 0)\n",
      "Ignoring wrong pointing object 138 0 (offset 0)\n",
      "Ignoring wrong pointing object 140 0 (offset 0)\n",
      "Ignoring wrong pointing object 142 0 (offset 0)\n",
      "Ignoring wrong pointing object 162 0 (offset 0)\n",
      "Ignoring wrong pointing object 164 0 (offset 0)\n"
     ]
    },
    {
     "name": "stdout",
     "output_type": "stream",
     "text": [
      "> Running step f31bcb07-c5c0-43a2-95b9-8b4e75a1d9e8. Step input: Compare the sales of the two companies\n",
      "\u001b[1;3;38;5;200mThought: The current language of the user is English. I need to use the A_Finance tool to get the sales information of company A first.\n",
      "Action: A_Finance\n",
      "Action Input: {'input': 'sales'}\n",
      "\u001b[0m\u001b[1;3;34mObservation: Sales and marketing expenses increased by 12.4% to US$ 918.0 million in the third quarter of 2023 from US$ 816.7 million in the third quarter of 2022. Core marketplace revenue, which includes transaction-based fees and advertising revenues, was up 31.7% year-on-year to US$ 1.3 billion.\n",
      "\u001b[0m> Running step 2df10410-2566-44e4-8004-2cd08fddd0c3. Step input: None\n",
      "\u001b[1;3;38;5;200mThought: I have obtained the sales information for company A. Now I need to use the B_Finance tool to get the sales information for company B.\n",
      "Action: B_Finance\n",
      "Action Input: {'input': 'sales'}\n",
      "\u001b[0m\u001b[1;3;34mObservation: The sales figures for the Taobao and Tmall Group, Alibaba International Digital Commerce Group, Local Services Group, Cainiao Smart Logistics Network Limited, Cloud Intelligence Group, Digital Media and Entertainment Group, and All Others have been provided in the context.\n",
      "\u001b[0m> Running step 042efd6d-2b18-4603-9568-a51a4d1d8b55. Step input: None\n",
      "\u001b[1;3;38;5;200mThought: The observation from the B_Finance tool does not provide specific sales figures for company B. I cannot compare the sales of the two companies without this information.\n",
      "Answer: I'm sorry, but I can't provide a comparison of the sales of the two companies because the sales figures for company B are not specified.\n",
      "\u001b[0mI'm sorry, but I can't provide a comparison of the sales of the two companies because the sales figures for company B are not specified.\n"
     ]
    }
   ],
   "source": [
    "# 加载电商财报数据\n",
    "from llama_index.core import SimpleDirectoryReader\n",
    "from dotenv import load_dotenv\n",
    "load_dotenv()\n",
    "A_docs = SimpleDirectoryReader(\n",
    "    input_files=[\"./A.pdf\"]\n",
    ").load_data()\n",
    "B_docs = SimpleDirectoryReader(\n",
    "    input_files=[\"./B.pdf\"]\n",
    ").load_data()\n",
    "\n",
    "\n",
    "\n",
    "# 从文档中创建索引\n",
    "from llama_index.core import VectorStoreIndex\n",
    "A_index = VectorStoreIndex.from_documents(A_docs)\n",
    "B_index = VectorStoreIndex.from_documents(B_docs)\n",
    "\n",
    "# 持久化索引（保存到本地）\n",
    "from llama_index.core import StorageContext\n",
    "A_index.storage_context.persist(persist_dir=\"./storage/A\")\n",
    "B_index.storage_context.persist(persist_dir=\"./storage/B\")\n",
    "\n",
    "\n",
    "# 从本地读取索引\n",
    "from llama_index.core import load_index_from_storage\n",
    "try:\n",
    "    storage_context = StorageContext.from_defaults(\n",
    "        persist_dir=\"./storage/A\"\n",
    "    )\n",
    "    A_index = load_index_from_storage(storage_context)\n",
    "\n",
    "    storage_context = StorageContext.from_defaults(\n",
    "        persist_dir=\"./storage/B\"\n",
    "    )\n",
    "    B_index = load_index_from_storage(storage_context)\n",
    "\n",
    "    index_loaded = True\n",
    "except:\n",
    "    index_loaded = False\n",
    "\n",
    "\n",
    "# 创建查询引擎\n",
    "A_engine = A_index.as_query_engine(similarity_top_k=3)\n",
    "B_engine = B_index.as_query_engine(similarity_top_k=3)\n",
    "\n",
    "\n",
    "# 配置查询工具\n",
    "from llama_index.core.tools import QueryEngineTool\n",
    "from llama_index.core.tools import ToolMetadata\n",
    "query_engine_tools = [\n",
    "    QueryEngineTool(\n",
    "        query_engine=A_engine,\n",
    "        metadata=ToolMetadata(\n",
    "            name=\"A_Finance\",\n",
    "            description=(\n",
    "                \"用于提供A公司的财务信息 \"\n",
    "            ),\n",
    "        ),\n",
    "    ),\n",
    "    QueryEngineTool(\n",
    "        query_engine=B_engine,\n",
    "        metadata=ToolMetadata(\n",
    "            name=\"B_Finance\",\n",
    "            description=(\n",
    "                \"用于提供A公司的财务信息 \"\n",
    "            ),\n",
    "        ),\n",
    "    ),\n",
    "]\n",
    "\n",
    "\n",
    "# 配置大模型\n",
    "from llama_index.llms.openai import OpenAI\n",
    "llm = OpenAI(model=\"gpt-4\")\n",
    "\n",
    "\n",
    "# 创建ReAct Agent\n",
    "from llama_index.core.agent import ReActAgent\n",
    "agent = ReActAgent.from_tools(query_engine_tools, llm=llm, verbose=True)\n",
    "\n",
    "\n",
    "# 让Agent完成任务\n",
    "print(agent.chat(\"Compare the sales of the two companies\"))\n"
   ]
  },
  {
   "cell_type": "code",
   "execution_count": null,
   "id": "89147b53-b939-45f3-ac86-655193f58e0e",
   "metadata": {},
   "outputs": [],
   "source": []
  }
 ],
 "metadata": {
  "kernelspec": {
   "display_name": "Python 3 (ipykernel)",
   "language": "python",
   "name": "python3"
  },
  "language_info": {
   "codemirror_mode": {
    "name": "ipython",
    "version": 3
   },
   "file_extension": ".py",
   "mimetype": "text/x-python",
   "name": "python",
   "nbconvert_exporter": "python",
   "pygments_lexer": "ipython3",
   "version": "3.11.9"
  }
 },
 "nbformat": 4,
 "nbformat_minor": 5
}
